{
  "nbformat": 4,
  "nbformat_minor": 0,
  "metadata": {
    "colab": {
      "name": "Monisha_S.ipynb",
      "provenance": []
    },
    "kernelspec": {
      "name": "python3",
      "display_name": "Python 3"
    },
    "language_info": {
      "name": "python"
    }
  },
  "cells": [
    {
      "cell_type": "markdown",
      "metadata": {
        "id": "45DiXaU6bL9K"
      },
      "source": [
        "##Importing dataset"
      ]
    },
    {
      "cell_type": "code",
      "metadata": {
        "id": "ufSLkejobdWa"
      },
      "source": [
        "from keras.datasets import mist\n",
        "data mnist.load_data()"
      ],
      "execution_count": null,
      "outputs": []
    },
    {
      "cell_type": "markdown",
      "metadata": {
        "id": "RodD0iDTbzvc"
      },
      "source": [
        "Define training and testing dataset"
      ]
    },
    {
      "cell_type": "code",
      "metadata": {
        "id": "QmYfxSuNb6xS"
      },
      "source": [
        "((X_train, y_train), (X_test, y_test)) = data"
      ],
      "execution_count": null,
      "outputs": []
    },
    {
      "cell_type": "markdown",
      "metadata": {
        "id": "nmSLChc_ccsZ"
      },
      "source": [
        "Shape of training data"
      ]
    },
    {
      "cell_type": "code",
      "metadata": {
        "id": "3JbNLPoWcxb7"
      },
      "source": [
        "#Reshape the training data\n",
        "X_train = X_train.reshape((X_train.shape[0], 28*28)).astype('float32')\n",
        "X_test = X_test.reshape((X_test.shape[0], 28*28)).astype('float32')"
      ],
      "execution_count": null,
      "outputs": []
    },
    {
      "cell_type": "code",
      "metadata": {
        "id": "VZSsOq6adsEE"
      },
      "source": [
        "#Normalizing values from 0-255 to 0-1\n",
        "X_train = X_train / 255\n",
        "X_test = X_test /255"
      ],
      "execution_count": null,
      "outputs": []
    },
    {
      "cell_type": "code",
      "metadata": {
        "id": "0_JEz1amep0n"
      },
      "source": [
        "from keras.utils import np_utils\n",
        " \n",
        "print(y_test.shape)\n",
        " \n",
        "y_train = np_utils.to_categorical(y_train)\n",
        "y_test = np_utils.to_categorical(y_test)\n",
        "num_classes = y_test.shape[1]\n",
        "print(y_test.shape)"
      ],
      "execution_count": null,
      "outputs": []
    },
    {
      "cell_type": "code",
      "metadata": {
        "id": "NFKuMa8LfhDm"
      },
      "source": [
        "from keras.models import Sequential\n",
        "from keras.layers import Dense"
      ],
      "execution_count": null,
      "outputs": []
    },
    {
      "cell_type": "code",
      "metadata": {
        "id": "7aAHsTDvf3sm"
      },
      "source": [
        "#Define model\n",
        "model = Sequential()\n",
        " \n",
        "#Add First Hidden Layer\n",
        "model.add(Dense(32, input_dim = 28*28, activation = 'relu'))\n",
        " \n",
        "#Add Second Hidden Layer\n",
        "model.add(Dense(64, activation = 'relu'))\n",
        " \n",
        "#Add Output Layer that having 10 neurons( since there are 10 classes/categories in\n",
        "model.add(Dense(10, activation = 'softmax'))"
      ],
      "execution_count": null,
      "outputs": []
    },
    {
      "cell_type": "code",
      "metadata": {
        "id": "UbnCrvQ2iQ-f"
      },
      "source": [
        "#Compile model\n",
        "model.compile(loss = 'categorical_crossentrophy', optimzer = adam, metrics['accuracy'])"
      ],
      "execution_count": null,
      "outputs": []
    },
    {
      "cell_type": "code",
      "metadata": {
        "id": "ZwgWRl-jiTEx"
      },
      "source": [
        "#Print Model summary\n",
        "model.summary()"
      ],
      "execution_count": null,
      "outputs": []
    },
    {
      "cell_type": "code",
      "metadata": {
        "id": "GgG7hmFrjKyr"
      },
      "source": [
        "#Train Model\n",
        "model.fit(X_train, y_train, epochs = 10, batch_size = 100)"
      ],
      "execution_count": null,
      "outputs": []
    },
    {
      "cell_type": "markdown",
      "metadata": {
        "id": "XymknmdCkcO9"
      },
      "source": [
        "Check model performance"
      ]
    },
    {
      "cell_type": "code",
      "metadata": {
        "id": "YsfaJk3Xkfl_"
      },
      "source": [
        "scores = model.evaluate(X_test, y_test)\n",
        "print(scores) ##returns loss and accuracy"
      ],
      "execution_count": null,
      "outputs": []
    }
  ]
}