{
  "nbformat": 4,
  "nbformat_minor": 0,
  "metadata": {
    "colab": {
      "name": "Monisha_S.ipynb",
      "provenance": [],
      "collapsed_sections": []
    },
    "kernelspec": {
      "name": "python3",
      "display_name": "Python 3"
    },
    "language_info": {
      "name": "python"
    }
  },
  "cells": [
    {
      "cell_type": "markdown",
      "metadata": {
        "id": "8dnVUQ1eqJLd"
      },
      "source": [
        ""
      ]
    },
    {
      "cell_type": "markdown",
      "metadata": {
        "id": "45DiXaU6bL9K"
      },
      "source": [
        "##Importing dataset"
      ]
    },
    {
      "cell_type": "code",
      "metadata": {
        "id": "ufSLkejobdWa"
      },
      "source": [
        "from keras.datasets import mnist\n",
        "data = mnist.load_data()"
      ],
      "execution_count": 88,
      "outputs": []
    },
    {
      "cell_type": "markdown",
      "metadata": {
        "id": "RodD0iDTbzvc"
      },
      "source": [
        "Define training and testing dataset"
      ]
    },
    {
      "cell_type": "code",
      "metadata": {
        "id": "QmYfxSuNb6xS"
      },
      "source": [
        "((X_train, y_train), (X_test, y_test)) = data"
      ],
      "execution_count": 90,
      "outputs": []
    },
    {
      "cell_type": "markdown",
      "metadata": {
        "id": "nmSLChc_ccsZ"
      },
      "source": [
        "Shape of training data"
      ]
    },
    {
      "cell_type": "code",
      "metadata": {
        "id": "3JbNLPoWcxb7"
      },
      "source": [
        "#Reshape the training data\n",
        "X_train = X_train.reshape((X_train.shape[0], 28*28)).astype('float32')\n",
        "X_test = X_test.reshape((X_test.shape[0], 28*28)).astype('float32')"
      ],
      "execution_count": 92,
      "outputs": []
    },
    {
      "cell_type": "code",
      "metadata": {
        "id": "VZSsOq6adsEE"
      },
      "source": [
        "#Normalizing values from 0-255 to 0-1\n",
        "X_train = X_train / 255\n",
        "X_test = X_test / 255"
      ],
      "execution_count": 94,
      "outputs": []
    },
    {
      "cell_type": "code",
      "metadata": {
        "id": "0_JEz1amep0n",
        "colab": {
          "base_uri": "https://localhost:8080/"
        },
        "outputId": "919843f9-aff0-489c-da43-6ad1c9f798a7"
      },
      "source": [
        "from keras.utils import np_utils\n",
        " \n",
        "print(y_test.shape)\n",
        " \n",
        "y_train = np_utils.to_categorical(y_train)\n",
        "y_test = np_utils.to_categorical(y_test)\n",
        "\n",
        "num_classes = y_test.shape[1]\n",
        "print(y_test.shape)"
      ],
      "execution_count": 96,
      "outputs": [
        {
          "output_type": "stream",
          "text": [
            "(10000, 10)\n",
            "(10000, 10, 2)\n"
          ],
          "name": "stdout"
        }
      ]
    },
    {
      "cell_type": "code",
      "metadata": {
        "id": "NFKuMa8LfhDm"
      },
      "source": [
        "from keras.models import Sequential\n",
        "from keras.layers import Dense"
      ],
      "execution_count": 98,
      "outputs": []
    },
    {
      "cell_type": "code",
      "metadata": {
        "id": "7aAHsTDvf3sm"
      },
      "source": [
        "#Define model\n",
        "model = Sequential()\n",
        " \n",
        "#Add First Hidden Layer\n",
        "model.add(Dense(32, input_dim = 28*28, activation = 'relu'))\n",
        " \n",
        "#Add Second Hidden Layer\n",
        "model.add(Dense(64, activation = 'relu'))\n",
        " \n",
        "#Add Output Layer that having 10 neurons( since there are 10 classes/categories in\n",
        "model.add(Dense(10, activation = 'softmax'))"
      ],
      "execution_count": 101,
      "outputs": []
    },
    {
      "cell_type": "code",
      "metadata": {
        "id": "UbnCrvQ2iQ-f"
      },
      "source": [
        "#Compile model\n",
        "model.compile(loss = 'categorical_crossentropy', optimizer = 'adam', metrics = ['accuracy'])"
      ],
      "execution_count": 72,
      "outputs": []
    },
    {
      "cell_type": "code",
      "metadata": {
        "id": "ZwgWRl-jiTEx",
        "colab": {
          "base_uri": "https://localhost:8080/"
        },
        "outputId": "2b1eadc5-4228-4821-aaea-1d0634594e2d"
      },
      "source": [
        "#Print Model summary\n",
        "model.summary()"
      ],
      "execution_count": 73,
      "outputs": [
        {
          "output_type": "stream",
          "text": [
            "Model: \"sequential_7\"\n",
            "_________________________________________________________________\n",
            "Layer (type)                 Output Shape              Param #   \n",
            "=================================================================\n",
            "dense_21 (Dense)             (None, 32)                25120     \n",
            "_________________________________________________________________\n",
            "dense_22 (Dense)             (None, 64)                2112      \n",
            "_________________________________________________________________\n",
            "dense_23 (Dense)             (None, 10)                650       \n",
            "=================================================================\n",
            "Total params: 27,882\n",
            "Trainable params: 27,882\n",
            "Non-trainable params: 0\n",
            "_________________________________________________________________\n"
          ],
          "name": "stdout"
        }
      ]
    },
    {
      "cell_type": "code",
      "metadata": {
        "id": "GgG7hmFrjKyr",
        "colab": {
          "base_uri": "https://localhost:8080/"
        },
        "outputId": "c37f6392-a256-4ff7-eed2-8cc32b754621"
      },
      "source": [
        "#Train Model\n",
        "model.fit(X_train, y_train, epochs = 10, batch_size = 100)"
      ],
      "execution_count": 74,
      "outputs": [
        {
          "output_type": "stream",
          "text": [
            "Epoch 1/10\n",
            "600/600 [==============================] - 2s 2ms/step - loss: 0.7867 - accuracy: 0.7812\n",
            "Epoch 2/10\n",
            "600/600 [==============================] - 1s 2ms/step - loss: 0.2028 - accuracy: 0.9419\n",
            "Epoch 3/10\n",
            "600/600 [==============================] - 1s 2ms/step - loss: 0.1638 - accuracy: 0.9504\n",
            "Epoch 4/10\n",
            "600/600 [==============================] - 1s 2ms/step - loss: 0.1292 - accuracy: 0.9621\n",
            "Epoch 5/10\n",
            "600/600 [==============================] - 1s 2ms/step - loss: 0.1147 - accuracy: 0.9661\n",
            "Epoch 6/10\n",
            "600/600 [==============================] - 1s 2ms/step - loss: 0.0969 - accuracy: 0.9711\n",
            "Epoch 7/10\n",
            "600/600 [==============================] - 1s 2ms/step - loss: 0.0859 - accuracy: 0.9739\n",
            "Epoch 8/10\n",
            "600/600 [==============================] - 1s 2ms/step - loss: 0.0768 - accuracy: 0.9776\n",
            "Epoch 9/10\n",
            "600/600 [==============================] - 1s 2ms/step - loss: 0.0707 - accuracy: 0.9791\n",
            "Epoch 10/10\n",
            "600/600 [==============================] - 1s 2ms/step - loss: 0.0650 - accuracy: 0.9801\n"
          ],
          "name": "stdout"
        },
        {
          "output_type": "execute_result",
          "data": {
            "text/plain": [
              "<tensorflow.python.keras.callbacks.History at 0x7f7219a3ab50>"
            ]
          },
          "metadata": {
            "tags": []
          },
          "execution_count": 74
        }
      ]
    },
    {
      "cell_type": "markdown",
      "metadata": {
        "id": "XymknmdCkcO9"
      },
      "source": [
        "Check model performance"
      ]
    },
    {
      "cell_type": "code",
      "metadata": {
        "id": "YsfaJk3Xkfl_",
        "colab": {
          "base_uri": "https://localhost:8080/"
        },
        "outputId": "b007d9f7-cd66-42ab-9178-bc10f2619149"
      },
      "source": [
        "scores = model.evaluate(X_test, y_test)\n",
        "print(scores) ##returns loss and accuracy"
      ],
      "execution_count": 75,
      "outputs": [
        {
          "output_type": "stream",
          "text": [
            "313/313 [==============================] - 0s 1ms/step - loss: 0.1009 - accuracy: 0.9697\n",
            "[0.10085566341876984, 0.9696999788284302]\n"
          ],
          "name": "stdout"
        }
      ]
    }
  ]
}